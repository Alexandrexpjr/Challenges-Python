{
  "nbformat": 4,
  "nbformat_minor": 0,
  "metadata": {
    "colab": {
      "name": "Challenges",
      "provenance": [],
      "collapsed_sections": [],
      "authorship_tag": "ABX9TyO/9dlrTb+kS7U9bSVpbcS6",
      "include_colab_link": true
    },
    "kernelspec": {
      "name": "python3",
      "display_name": "Python 3"
    },
    "language_info": {
      "name": "python"
    }
  },
  "cells": [
    {
      "cell_type": "markdown",
      "metadata": {
        "id": "view-in-github",
        "colab_type": "text"
      },
      "source": [
        "<a href=\"https://colab.research.google.com/github/Alexandrexpjr/Challenges-Python/blob/main/Challenges.ipynb\" target=\"_parent\"><img src=\"https://colab.research.google.com/assets/colab-badge.svg\" alt=\"Open In Colab\"/></a>"
      ]
    },
    {
      "cell_type": "code",
      "execution_count": null,
      "metadata": {
        "id": "FtqsPVa0UXoC",
        "colab": {
          "base_uri": "https://localhost:8080/"
        },
        "outputId": "f00ffd46-af17-419d-d1ae-e68dd62eaa24"
      },
      "outputs": [
        {
          "output_type": "stream",
          "name": "stdout",
          "text": [
            "[1, 2, 3, 5, 8, 13, 21, 34, 55, 89, 144, 233, 377, 610, 987, 1597, 2584, 4181, 6765, 10946, 17711, 28657, 46368, 75025, 121393, 196418, 317811, 514229, 832040, 1346269, 2178309, 3524578]\n"
          ]
        },
        {
          "output_type": "execute_result",
          "data": {
            "text/plain": [
              "4613732"
            ]
          },
          "metadata": {},
          "execution_count": 10
        }
      ],
      "source": [
        "# 1: Sum of even numbers in Fibonacci sequence below 4 million\n",
        "\n",
        "four_million = 4000000\n",
        "\n",
        "def getFibonacciNumbers(maxNumber):\n",
        "  fibonacci_numbers = [1, 2]\n",
        "  current_number = fibonacci_numbers[-1]\n",
        "  while (fibonacci_numbers[-1] < maxNumber):\n",
        "    nextNumber = fibonacci_numbers[-1] + fibonacci_numbers[-2]\n",
        "    fibonacci_numbers.append(nextNumber)\n",
        "  return fibonacci_numbers[0: -1]\n",
        "print(getFibonacciNumbers(four_million))\n",
        "\n",
        "fibo = getFibonacciNumbers(four_million)\n",
        "\n",
        "def sumIfEven(list):\n",
        "  sum = 0\n",
        "  for number in list:\n",
        "    if (number % 2 == 0):\n",
        "      sum += number\n",
        "  return sum\n",
        "sumIfEven(fibo)\n",
        "\n",
        "# Correct\n",
        "  "
      ]
    },
    {
      "cell_type": "code",
      "source": [
        "# 2: The prime factors of 13195 are 5, 7, 13 and 29.\n",
        "\n",
        "# What is the largest prime factor of the number 600851475143 ?\n",
        "\n",
        "def getLargestPrime(maxNumber):\n",
        "  counter = 1\n",
        "  currentPrime = 2;\n",
        "  currentNumber = maxNumber;\n",
        "  while (currentNumber != 1):\n",
        "     if (currentNumber % currentPrime == 0):\n",
        "       currentNumber = currentNumber / currentPrime\n",
        "     else: currentPrime += 1\n",
        "  return currentPrime\n",
        "\n",
        "getLargestPrime(600851475143)\n",
        "\n",
        "# Correct\n"
      ],
      "metadata": {
        "id": "DxhuoI2VYNBF",
        "colab": {
          "base_uri": "https://localhost:8080/"
        },
        "outputId": "c35fc434-2c43-4417-aa06-7457469221b4"
      },
      "execution_count": null,
      "outputs": [
        {
          "output_type": "execute_result",
          "data": {
            "text/plain": [
              "6857"
            ]
          },
          "metadata": {},
          "execution_count": 41
        }
      ]
    },
    {
      "cell_type": "code",
      "source": [
        "# 3: A palindromic number reads the same both ways. The largest palindrome made \n",
        "# from the product of two 2-digit numbers is 9009 = 91 × 99.\n",
        "# Find the largest palindrome made from the product of two 3-digit numbers.\n",
        "\n",
        "def isPalindrome(number):\n",
        "  numberString = str(number)\n",
        "  stringList = list(numberString)\n",
        "  numberList = stringList.copy()\n",
        "  stringList.reverse()\n",
        "  return (stringList == numberList)\n",
        "\n",
        "def find_largest_palindrome():\n",
        "  firstNumber = 999\n",
        "  palindromes = []\n",
        "  while (firstNumber > 900):\n",
        "    for number in range(1000, 0, -1):\n",
        "      if (isPalindrome(firstNumber * number)):\n",
        "        palindromes.append(number * firstNumber)\n",
        "        break\n",
        "    firstNumber -= 1\n",
        "  palindromes.sort()\n",
        "  return palindromes[-1]\n",
        "\n",
        "print(find_largest_palindrome())"
      ],
      "metadata": {
        "id": "65dxRPgmUvDK",
        "colab": {
          "base_uri": "https://localhost:8080/"
        },
        "outputId": "8e52e7d4-4c77-42d0-cf05-505887d770c6"
      },
      "execution_count": null,
      "outputs": [
        {
          "output_type": "stream",
          "name": "stdout",
          "text": [
            "906609\n"
          ]
        }
      ]
    },
    {
      "cell_type": "code",
      "source": [
        "# 4: Smallest Number\n",
        "# 2520 is the smallest number that can be divided by each of the numbers from 1 to 10 without any remainder.\n",
        "# What is the smallest positive number that is evenly divisible by all of the numbers from 1 to 20?\n",
        "\n",
        "def get_smallest_number_divided_by_1_to_20():\n",
        "  myNumber = 19\n",
        "  searching = True\n",
        "  while(searching):\n",
        "    for number in range(1, 21):\n",
        "      if (myNumber % number != 0):\n",
        "        myNumber += 19\n",
        "        break\n",
        "      if (number == 20): searching = False\n",
        "  return myNumber\n",
        "\n",
        "print(get_smallest_number_divided_by_1_to_20())\n",
        "      "
      ],
      "metadata": {
        "colab": {
          "base_uri": "https://localhost:8080/"
        },
        "id": "9HnZVU8rB7ma",
        "outputId": "5fca63a5-3cfd-42ef-c320-d764ee9a8605"
      },
      "execution_count": null,
      "outputs": [
        {
          "output_type": "stream",
          "name": "stdout",
          "text": [
            "232792560\n"
          ]
        }
      ]
    },
    {
      "cell_type": "code",
      "source": [
        "# 5: Find the difference between the sum of the squares of the first \n",
        "# one hundred natural numbers and the square of the sum.\n",
        "\n",
        "def sum_of_squares():\n",
        "  sum = 0\n",
        "  for number in range(1, 101):\n",
        "    sum += number ** 2\n",
        "  return sum\n",
        "\n",
        "def square_of_sum():\n",
        "  sum = 0\n",
        "  for number in range(1, 101):\n",
        "    sum += number\n",
        "  return sum ** 2\n",
        "print(sum_of_squares() - square_of_sum())\n",
        "\n",
        "# Correct"
      ],
      "metadata": {
        "colab": {
          "base_uri": "https://localhost:8080/"
        },
        "id": "dnYMPqVIOfEu",
        "outputId": "e56f8896-3c34-4634-c6a0-ba891eac84f7"
      },
      "execution_count": null,
      "outputs": [
        {
          "output_type": "stream",
          "name": "stdout",
          "text": [
            "-25164150\n",
            "25502500\n"
          ]
        }
      ]
    },
    {
      "cell_type": "code",
      "source": [
        "# 6: 10001 prime\n",
        "# By listing the first six prime numbers: 2, 3, 5, 7, 11, and 13, we can see that the 6th prime is 13.\n",
        "# What is the 10001st prime number?\n",
        "\n",
        "def find_nth_prime(n):\n",
        "  primes = [2, 3, 5]\n",
        "  current = 5\n",
        "  while(len(primes) < n):\n",
        "    for number in primes:\n",
        "      if (current % number == 0):\n",
        "        break\n",
        "      if (number == primes[-1]): primes.append(current)\n",
        "    current += 1\n",
        "  return primes[-1]\n",
        "\n",
        "print(find_nth_prime(10001))\n",
        "\n",
        "# Correct"
      ],
      "metadata": {
        "id": "3vWARiFtRm5R",
        "colab": {
          "base_uri": "https://localhost:8080/"
        },
        "outputId": "06ae2c0f-6c28-4f6d-b4f0-ebf0da5859dd"
      },
      "execution_count": null,
      "outputs": [
        {
          "output_type": "stream",
          "name": "stdout",
          "text": [
            "104743\n"
          ]
        }
      ]
    },
    {
      "cell_type": "code",
      "source": [
        "# 7: The four adjacent digits in the 1000-digit number that have the \n",
        "# greatest product are 9 × 9 × 8 × 9 = 5832.\n",
        "# Find the thirteen adjacent digits in the 1000-digit number that have the \n",
        "# greatest product. What is the value of this product?\n",
        "\n",
        "one_thousand_digit = '7316717653133062491922511967442657474235534919493496983520312774506326239578318016984801869478851843858615607891129494954595017379583319528532088055111254069874715852386305071569329096329522744304355766896648950445244523161731856403098711121722383113622298934233803081353362766142828064444866452387493035890729629049156044077239071381051585930796086670172427121883998797908792274921901699720888093776657273330010533678812202354218097512545405947522435258490771167055601360483958644670632441572215539753697817977846174064955149290862569321978468622482839722413756570560574902614079729686524145351004748216637048440319989000889524345065854122758866688116427171479924442928230863465674813919123162824586178664583591245665294765456828489128831426076900422421902267105562632111110937054421750694165896040807198403850962455444362981230987879927244284909188845801561660979191338754992005240636899125607176060588611646710940507754100225698315520005593572972571636269561882670428252483600823257530420752963450'\n",
        "def find_greatest_product():\n",
        "  one_thousand_digit_list = list(one_thousand_digit)\n",
        "  product = 0\n",
        "  first_index = 0\n",
        "  last_index = 13\n",
        "  while(last_index < 1000):\n",
        "    current_product = 1\n",
        "    current_list = one_thousand_digit_list[first_index:last_index] \n",
        "    for number in current_list:\n",
        "      current_product *= int(number)\n",
        "    if(current_product > product): product = current_product\n",
        "    first_index += 1\n",
        "    last_index += 1\n",
        "  return product\n",
        "\n",
        "print(find_greatest_product())\n",
        "\n",
        "# Correct\n"
      ],
      "metadata": {
        "colab": {
          "base_uri": "https://localhost:8080/"
        },
        "id": "GFBX_KAy_PXw",
        "outputId": "8744b6d8-9ac7-4781-d017-f89a7d28eeb0"
      },
      "execution_count": null,
      "outputs": [
        {
          "output_type": "stream",
          "name": "stdout",
          "text": [
            "23514624000\n"
          ]
        }
      ]
    },
    {
      "cell_type": "code",
      "source": [
        "# 8: Special Pythagorean Triplet\n",
        "# A Pythagorean triplet is a set of three natural numbers, a < b < c, for which,\n",
        "# a**2 + b**2 = c**2\n",
        "# For example, 3**2 + 4**2 = 9 + 16 = 25 = 5**2.\n",
        "# There exists exactly one Pythagorean triplet for which a + b + c = 1000.\n",
        "# Find the product abc.\n",
        "\n",
        "def check_sum(a, b, number):\n",
        "  c = (a**2 + b**2) ** 0.5\n",
        "  return (a + b + c == number)\n",
        "\n",
        "def get_product_abc(a, b):\n",
        "  c = (a**2 + b**2) ** 0.5\n",
        "  return (a * b * c)\n",
        "\n",
        "def find_special_pythagorean_triplet(targetSum):\n",
        "  for a in range(500):\n",
        "    for b in range(500):\n",
        "      if(check_sum(a, b, targetSum)):\n",
        "        get_product_abc(a, b)\n",
        "        return  get_product_abc(a, b)\n",
        "\n",
        "print(find_special_pythagorean_triplet(1000))\n",
        "\n",
        "# Correct\n"
      ],
      "metadata": {
        "colab": {
          "base_uri": "https://localhost:8080/"
        },
        "id": "iF6oU8nXFZ07",
        "outputId": "48b2bb7d-c0a4-47a6-aa68-a50097aef2a2"
      },
      "execution_count": null,
      "outputs": [
        {
          "output_type": "stream",
          "name": "stdout",
          "text": [
            "31875000.0\n"
          ]
        }
      ]
    },
    {
      "cell_type": "code",
      "source": [
        "# 9: The sum of the primes below 10 is 2 + 3 + 5 + 7 = 17.\n",
        "# Find the sum of all the primes below two million.\n",
        "\n",
        "def get_sum_of_primes_below_n(n):\n",
        "  primes = [2, 3]\n",
        "  sum = 5\n",
        "  for number in range(2, n):\n",
        "    for prime in primes:\n",
        "      if(number % prime == 0):\n",
        "        break\n",
        "      if(prime == primes[-1]): \n",
        "        primes.append(number)\n",
        "        sum += number\n",
        "  return sum\n",
        "(get_sum_of_primes_below_n(2000000))\n",
        "\n",
        "# Correct"
      ],
      "metadata": {
        "id": "10b2TQjuHaDz",
        "colab": {
          "base_uri": "https://localhost:8080/"
        },
        "outputId": "7458bde3-e793-4da4-a558-cb65c46e0a09"
      },
      "execution_count": null,
      "outputs": [
        {
          "output_type": "execute_result",
          "data": {
            "text/plain": [
              "142913828922"
            ]
          },
          "metadata": {},
          "execution_count": 23
        }
      ]
    },
    {
      "cell_type": "code",
      "source": [
        "# 10: What is the greatest product of four adjacent numbers in the same\n",
        "# direction (up, down, left, right, or diagonally) in the 20×20 grid?\n",
        "\n",
        "M1 = [[8, 2, 22, 97, 38, 15, 0, 40, 0, 75, 4, 5, 7, 78, 52, 12, 50, 77, 91, 8],\n",
        "  [49, 49, 99, 40, 17, 81, 18, 57, 60, 87, 17, 40, 98, 43, 69, 48, 4, 56, 62, 0],\n",
        "  [81, 49, 31, 73, 55, 79, 14, 29, 93, 71, 40, 67, 53, 88, 30, 3, 49, 13, 36, 65],\n",
        "  [52, 70, 95, 23, 4, 60, 11, 42, 69, 24, 68, 56, 1, 32, 56, 71, 37, 2, 36, 91],\n",
        "  [22, 31, 16, 71, 51, 67, 63, 89, 41, 92, 36, 54, 22, 40, 40, 28, 66, 33, 13, 80],\n",
        "  [24, 47, 32, 60, 99, 3, 45, 2, 44, 75, 33, 53, 78, 36, 84, 20, 35, 17, 12, 50],\n",
        "  [32, 98, 81, 28, 64, 23, 67, 10, 26, 38, 40, 67, 59, 54, 70, 66, 18, 38, 64, 70],\n",
        "  [67, 26, 20, 68, 2, 62, 12, 20, 95, 63, 94, 39, 63, 8, 40, 91, 66, 49, 94, 21],\n",
        "  [24, 55, 58, 5, 66, 73, 99, 26, 97, 17, 78, 78, 96, 83, 14, 88, 34, 89, 63, 72],\n",
        "  [21, 36, 23, 9, 75, 0, 76, 44, 20, 45, 35, 14, 0, 61, 33, 97, 34, 31, 33, 95],\n",
        "  [78, 17, 53, 28, 22, 75, 31, 67, 15, 94, 3, 80, 4, 62, 16, 14, 9, 53, 56, 92],\n",
        "  [16, 39, 5, 42, 96, 35, 31, 47, 55, 58, 88, 24, 0, 17, 54, 24, 36, 29, 85, 57],\n",
        "  [86, 56, 0, 48, 35, 71, 89, 7, 5, 44, 44, 37, 44, 60, 21, 58, 51, 54, 17, 58],\n",
        "  [19, 80, 81, 68, 5, 94, 47, 69, 28, 73, 92, 13, 86, 52, 17, 77, 4, 89, 55, 40],\n",
        "  [4, 52, 8, 83, 97, 35, 99, 16, 7, 97, 57, 32, 16, 26, 26, 79, 33, 27, 98, 66],\n",
        "  [88, 36, 68, 87, 57, 62, 20, 72, 3, 46, 33, 67, 46, 55, 12, 32, 63, 93, 53, 69],\n",
        "  [4, 42, 16, 73, 38, 25, 39, 11, 24, 94, 72, 18, 8, 46, 29, 32, 40, 62, 76, 36],\n",
        "  [20, 69, 36, 41, 72, 30, 23, 88, 34, 62, 99, 69, 82, 67, 59, 85, 74, 4, 36, 16],\n",
        "  [20, 73, 35, 29, 78, 31, 90, 1, 74, 31, 49, 71, 48, 86, 81, 16, 23, 57, 5, 54],\n",
        "  [1, 70, 54, 71, 83, 51, 54, 69, 16, 92, 33, 48, 61, 43, 52, 1, 89, 19, 67, 48]]\n",
        "\n",
        "\n",
        "def greatest_by_row(matrix):\n",
        "  global greatest_product\n",
        "  greatest_product = 0\n",
        "  for list in matrix:\n",
        "    first_index = 0\n",
        "    last_index = 4\n",
        "    while (last_index < 20):\n",
        "      current_product = 1\n",
        "      for number in list[first_index:last_index]:\n",
        "        current_product *= number\n",
        "      if (current_product > greatest_product): \n",
        "        greatest_product = current_product\n",
        "      first_index += 1\n",
        "      last_index += 1\n",
        "\n",
        "greatest_by_row(M1)\n",
        "print(greatest_product)\n",
        "\n",
        "def greatest_by_column(matrix):\n",
        "  global greatest_product\n",
        "  greatest_product = 0\n",
        "  current_index = 0\n",
        "  first_list = 0\n",
        "  last_list = 4\n",
        "  while (last_list < 20 and current_index < 20):\n",
        "    current_product = 1\n",
        "    for number in range(first_list, last_list):\n",
        "      current_product *= matrix[number][current_index]\n",
        "    if(current_product > greatest_product):\n",
        "      greatest_product = current_product\n",
        "    first_list += 1\n",
        "    last_list += 1\n",
        "    if (last_list == 19 and current_index < 20):\n",
        "      first_list = 0\n",
        "      last_list = 4\n",
        "      current_index += 1\n",
        "\n",
        "greatest_by_column(M1)\n",
        "print(greatest_product)\n",
        "\n",
        "def greatest_by_diagonal_right(matrix):\n",
        "  global greatest_product\n",
        "  greatest_product = 0\n",
        "  current_index = 0\n",
        "  first_list = 0\n",
        "  last_list = 4\n",
        "  while (last_list <= 20 and current_index < 17):\n",
        "    current_product = 1\n",
        "    for number in range(first_list, last_list):\n",
        "      current_product *= matrix[number][current_index]\n",
        "      current_index += 1\n",
        "    if(current_product > greatest_product):\n",
        "      greatest_product = current_product\n",
        "    first_list += 1\n",
        "    last_list += 1\n",
        "    current_index -= 4\n",
        "    if (last_list == 21 and current_index < 17):\n",
        "      first_list = 0\n",
        "      last_list = 4\n",
        "      current_index += 1\n",
        "greatest_by_diagonal_right(M1)\n",
        "print(greatest_product)\n",
        "\n",
        "def greatest_by_diagonal_left(matrix):\n",
        "  global greatest_product\n",
        "  greatest_product = 0\n",
        "  current_index = 19\n",
        "  first_list = 0\n",
        "  last_list = 4\n",
        "  while (last_list <= 20 and current_index > 0):\n",
        "    current_product = 1\n",
        "    for number in range(first_list, last_list):\n",
        "      current_product *= matrix[number][current_index]\n",
        "      current_index -= 1\n",
        "    if(current_product > greatest_product):\n",
        "      greatest_product = current_product\n",
        "    first_list += 1\n",
        "    last_list += 1\n",
        "    current_index += 4\n",
        "    if (last_list == 21 and current_index > 0):\n",
        "      first_list = 0\n",
        "      last_list = 4\n",
        "      current_index -= 1\n",
        "greatest_by_diagonal_left(M1)\n",
        "print(greatest_product)\n",
        "\n",
        "# Correct"
      ],
      "metadata": {
        "colab": {
          "base_uri": "https://localhost:8080/"
        },
        "id": "hzVWBLpI8M3y",
        "outputId": "701e2089-1f95-4ee5-9ae7-ba19bfb0c3a9"
      },
      "execution_count": null,
      "outputs": [
        {
          "output_type": "stream",
          "name": "stdout",
          "text": [
            "48477312\n",
            "51267216\n",
            "40304286\n",
            "70600674\n"
          ]
        }
      ]
    },
    {
      "cell_type": "code",
      "source": [
        ""
      ],
      "metadata": {
        "id": "yfM0_IwC8Udi"
      },
      "execution_count": null,
      "outputs": []
    }
  ]
}